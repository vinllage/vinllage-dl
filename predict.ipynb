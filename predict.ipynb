{
 "cells": [
  {
   "cell_type": "code",
   "execution_count": 24,
   "id": "a7b6fbe6",
   "metadata": {},
   "outputs": [
    {
     "name": "stdout",
     "output_type": "stream",
     "text": [
      "\n",
      "image 1/1 c:\\Users\\User\\Desktop\\vinllage\\vinllage-dl\\plastic3.jpg: 640x352 1 plastic, 42.1ms\n",
      "Speed: 1.5ms preprocess, 42.1ms inference, 1.4ms postprocess per image at shape (1, 3, 640, 352)\n",
      "plastic 0.9369664192199707 [66.05216217041016, 20.745885848999023, 396.0959167480469, 815.6832275390625]\n"
     ]
    }
   ],
   "source": [
    "from ultralytics import YOLO\n",
    "model = YOLO(\"best.pt\")  # 최종 배포용\n",
    "\n",
    "# 이미지/폴더/웹캠(0) 가능\n",
    "source_image = \"plastic3.jpg\"\n",
    "\n",
    "results = model.predict(source=source_image, save=False, imgsz=640, conf=0.6, iou=0.35, device=0)\n",
    "for r in results:\n",
    "    # r.boxes.cls, r.boxes.conf, r.names\n",
    "    for cls, conf, xyxy in zip(r.boxes.cls.tolist(), r.boxes.conf.tolist(), r.boxes.xyxy.tolist()):\n",
    "        print(r.names[int(cls)], conf, xyxy)"
   ]
  }
 ],
 "metadata": {
  "language_info": {
   "name": "python"
  }
 },
 "nbformat": 4,
 "nbformat_minor": 5
}
